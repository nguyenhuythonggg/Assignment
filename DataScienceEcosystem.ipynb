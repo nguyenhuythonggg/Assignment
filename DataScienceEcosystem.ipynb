{
 "cells": [
  {
   "cell_type": "markdown",
   "id": "9144ba78-ea1e-4cfd-aa45-feff37f86eaf",
   "metadata": {},
   "source": [
    "# Data Science Tools and Ecosystem"
   ]
  },
  {
   "cell_type": "markdown",
   "id": "e5cdaaf5-58cd-4136-82e0-612f949e6be2",
   "metadata": {},
   "source": [
    "# In this notebook, Data Science Tools and Ecosystem are summarized"
   ]
  },
  {
   "cell_type": "markdown",
   "id": "fa6e3e62-92b5-42fa-9edd-f263a5430692",
   "metadata": {},
   "source": [
    "**Objectives**\n",
    "- List popular languages for Data Science\n",
    "- List commonly used libraries for Data Science\n",
    "- List Data Science Tools"
   ]
  },
  {
   "cell_type": "markdown",
   "id": "09dd3b24-20b6-4c19-b25c-a917fbfba8e0",
   "metadata": {},
   "source": [
    "# Some of the popular languages that Data Scientists use are:\n",
    "1. Python\n",
    "2. SQL\n",
    "3. R\n",
    "4. Scala\n",
    "5. Julia"
   ]
  },
  {
   "cell_type": "markdown",
   "id": "6035ec4b-c55b-4a85-a61a-f4efc1e8bcd8",
   "metadata": {},
   "source": [
    "# Some of the commonly used libraries used by Data Scientists include:\n",
    "1. Numpy\n",
    "2. Pandas\n",
    "3. Scikit-learn\n",
    "4. Matplotlib"
   ]
  },
  {
   "cell_type": "markdown",
   "id": "5047f9d2-ccd7-48ec-9f54-ab5442bf02ac",
   "metadata": {},
   "source": [
    "# Data Science Tools\n",
    "| Data Management Tools | Data Visualization Tools | Data Intergration and Transformation Tools |\n",
    "| --------------------- | ------------------------ | ------------------------------------------ |\n",
    "| MySQL | PixieDust | Apache Airflow |\n",
    "| PostgreSQL | Hue | Kubeflow |\n",
    "| Apache CouchDB | Kibana | Apache Kafka |"
   ]
  },
  {
   "cell_type": "markdown",
   "id": "e8577d3e-d26a-4dd8-a1f2-79903c271c18",
   "metadata": {},
   "source": [
    "### Below are a few examples of evaluating arithmetic expressions in Python"
   ]
  },
  {
   "cell_type": "code",
   "execution_count": 15,
   "id": "cafbc5be-5f67-4eac-bbbc-a5210508c113",
   "metadata": {},
   "outputs": [
    {
     "data": {
      "text/plain": [
       "17"
      ]
     },
     "execution_count": 15,
     "metadata": {},
     "output_type": "execute_result"
    }
   ],
   "source": [
    "# This is a simple arithmetic expression to multiply then add integers\n",
    "(3*4)+5"
   ]
  },
  {
   "cell_type": "code",
   "execution_count": 17,
   "id": "fa378f0a-5aa2-4dd3-96bf-17362f98c3dd",
   "metadata": {},
   "outputs": [
    {
     "data": {
      "text/plain": [
       "3.3333333333333335"
      ]
     },
     "execution_count": 17,
     "metadata": {},
     "output_type": "execute_result"
    }
   ],
   "source": [
    "# This will convert 200 minutes to hours by dividing by 60\n",
    "200/60"
   ]
  },
  {
   "cell_type": "markdown",
   "id": "321b7c24-6f20-45eb-a4ca-402facad5b02",
   "metadata": {},
   "source": [
    "## Author:\n",
    "Tom"
   ]
  }
 ],
 "metadata": {
  "kernelspec": {
   "display_name": "Python 3 (ipykernel)",
   "language": "python",
   "name": "python3"
  },
  "language_info": {
   "codemirror_mode": {
    "name": "ipython",
    "version": 3
   },
   "file_extension": ".py",
   "mimetype": "text/x-python",
   "name": "python",
   "nbconvert_exporter": "python",
   "pygments_lexer": "ipython3",
   "version": "3.12.4"
  }
 },
 "nbformat": 4,
 "nbformat_minor": 5
}
